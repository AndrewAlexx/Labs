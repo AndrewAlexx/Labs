{
 "cells": [
  {
   "cell_type": "code",
   "execution_count": null,
   "metadata": {},
   "outputs": [],
   "source": [
    "# Import needed Librarys\n",
    "import pandas as pd\n",
    "import math, datetime\n",
    "import numpy as np\n",
    "from sklearn import preprocessing, svm\n",
    "from sklearn.model_selection import train_test_split\n",
    "import matplotlib.pyplot as plt\n",
    "from matplotlib import style\n",
    "import pickle\n",
    "import re\n",
    "from sklearn.cluster import KMeans\n",
    "\n",
    "style.use('ggplot')\n",
    "%matplotlib inline"
   ]
  },
  {
   "cell_type": "code",
   "execution_count": null,
   "metadata": {},
   "outputs": [],
   "source": [
    "# Data Source: GSC exported via https://searchanalyticsforsheets.com/"
   ]
  },
  {
   "cell_type": "code",
   "execution_count": null,
   "metadata": {},
   "outputs": [],
   "source": [
    "df = pd.read_csv(\"data/example_crt_prediction.csv\", sep=\",\", thousands='.')"
   ]
  },
  {
   "cell_type": "code",
   "execution_count": null,
   "metadata": {},
   "outputs": [],
   "source": [
    "df.head(10)"
   ]
  },
  {
   "cell_type": "code",
   "execution_count": null,
   "metadata": {},
   "outputs": [],
   "source": [
    "# Convert Strings to Numbers\n",
    "df.CTR = df.CTR.str.replace(\"%\", \"\").str.replace(\",\", \".\").astype(float)\n",
    "df.Position = df.Position.str.replace(\",\", \".\").astype(float)\n",
    "df['Position'] = pd.to_numeric(df['Position'])\n",
    "df['CTR'] = pd.to_numeric(df['CTR'])\n",
    "df = df.round(0)"
   ]
  },
  {
   "cell_type": "code",
   "execution_count": null,
   "metadata": {},
   "outputs": [],
   "source": [
    "# Delete rows with empty data\n",
    "df.dropna(inplace=True)"
   ]
  },
  {
   "cell_type": "code",
   "execution_count": null,
   "metadata": {},
   "outputs": [],
   "source": [
    "df.head()"
   ]
  },
  {
   "cell_type": "code",
   "execution_count": null,
   "metadata": {},
   "outputs": [],
   "source": [
    "# Show most Correlating Columns to CTR\n",
    "df.corr()[\"CTR\"]"
   ]
  },
  {
   "cell_type": "code",
   "execution_count": null,
   "metadata": {},
   "outputs": [],
   "source": [
    "# Define features and target\n",
    "# features: what columns should algorithm take as base to make predictions\n",
    "features = [\"Position\", \"Impressions\"]  # you can change features to see prediction changing\n",
    "# target: what to predict\n",
    "target = \"CTR\""
   ]
  },
  {
   "cell_type": "code",
   "execution_count": null,
   "metadata": {},
   "outputs": [],
   "source": [
    "# Split Data in Train and Testset\n",
    "train = df.sample(frac=0.8)\n",
    "test = df.loc[~df.index.isin(train.index)]"
   ]
  },
  {
   "cell_type": "code",
   "execution_count": null,
   "metadata": {},
   "outputs": [],
   "source": [
    "print (\"Train rows: {}\".format(len(train.index)))\n",
    "print (\"Test rows: {}\".format(len(test.index)))"
   ]
  },
  {
   "cell_type": "code",
   "execution_count": null,
   "metadata": {},
   "outputs": [],
   "source": [
    "# Import different Alorithms to see differences between their predictions\n",
    "from sklearn.linear_model import LinearRegression\n",
    "from sklearn.tree import DecisionTreeClassifier\n",
    "from sklearn.ensemble import RandomForestClassifier\n",
    "from sklearn.svm import SVC\n",
    "from sklearn.metrics import mean_squared_error, r2_score"
   ]
  },
  {
   "cell_type": "code",
   "execution_count": null,
   "metadata": {},
   "outputs": [],
   "source": [
    "# Helper Function to print readable scores\n",
    "def print_scores(scores):\n",
    "    r = 1\n",
    "    for score in scores:\n",
    "        print(\"Run: {} - Score: {}\".format(r, score))\n",
    "        r += 1"
   ]
  },
  {
   "cell_type": "code",
   "execution_count": null,
   "metadata": {},
   "outputs": [],
   "source": [
    "# Model 1\n",
    "# Define which Model to Use\n",
    "LinearRegressionModel = LinearRegression()"
   ]
  },
  {
   "cell_type": "code",
   "execution_count": null,
   "metadata": {},
   "outputs": [],
   "source": [
    "# Train the Model\n",
    "LinearRegressionModel.fit(train[features], train[target])"
   ]
  },
  {
   "cell_type": "code",
   "execution_count": null,
   "metadata": {},
   "outputs": [],
   "source": [
    "# Test how the model performes against the Training data we split above...\n",
    "prediction_score = LinearRegressionModel.score(test[features], test[target])\n",
    "print(\"The score of prediction for LinearRegressionModel is: {}\".format(prediction_score))"
   ]
  },
  {
   "cell_type": "code",
   "execution_count": null,
   "metadata": {},
   "outputs": [],
   "source": [
    "# Model 2 (same steps like model 1 but in one cell)\n",
    "DecisionTreeClassifierModel = DecisionTreeClassifier()\n",
    "DecisionTreeClassifierModel.fit(train[features], train[target])\n",
    "prediction_score = DecisionTreeClassifierModel.score(test[features], test[target])\n",
    "print(\"The score of prediction for DecisionTreeClassifierModel is: {}\".format(prediction_score))"
   ]
  },
  {
   "cell_type": "code",
   "execution_count": null,
   "metadata": {},
   "outputs": [],
   "source": [
    "# Model 3 / tuning Hyperparameters\n",
    "from sklearn import preprocessing\n",
    "from sklearn.ensemble import RandomForestRegressor\n",
    "from sklearn.pipeline import make_pipeline\n",
    "from sklearn.model_selection import GridSearchCV\n",
    "pipeline = make_pipeline(preprocessing.StandardScaler(), \n",
    "                         RandomForestRegressor(n_estimators=200))\n",
    " \n",
    "# Declare hyperparameters to tune\n",
    "hyperparameters = { 'randomforestregressor__max_features' : ['auto', 'sqrt', 'log2'],\n",
    "                  'randomforestregressor__max_depth': [5, 3]}\n",
    " \n",
    "# Tune model using cross-validation pipeline\n",
    "RandomForestRegressorModel = GridSearchCV(pipeline, hyperparameters, cv=5)\n",
    " \n",
    "RandomForestRegressorModel.fit(train[features], train[target])\n",
    "prediction_score = RandomForestRegressorModel.score(test[features], test[target])\n",
    "print(\"The score of prediction for RandomForestRegressorModel is: {}\".format(prediction_score))"
   ]
  },
  {
   "cell_type": "code",
   "execution_count": null,
   "metadata": {},
   "outputs": [],
   "source": [
    "# Print Predictions for all created Models\n",
    "\n",
    "# Define parameters for Predictions \n",
    "# (in this case: what CTR we have vor a Keyword on position 2 with 200 impressions)\n",
    "position = 2.0\n",
    "impressions = 200\n",
    "data = [[position, impressions]]  # needs to be same count as features\n",
    "\n",
    "df_to_predict = pd.DataFrame(data = data, index=[0], columns=features)\n",
    "res = LinearRegressionModel.predict(df_to_predict)\n",
    "print(\"LinearRegressionModel predicted:       {}% CTR\".format(int(res[0])))\n",
    "res = DecisionTreeClassifierModel.predict(df_to_predict)\n",
    "print(\"DecisionTreeClassifierModel predicted: {}% CTR\".format(int(res[0])))\n",
    "res = RandomForestRegressorModel.predict(df_to_predict)\n",
    "print(\"RandomForestRegressorModel predicted:  {}% CTR\".format(int(res[0])))"
   ]
  },
  {
   "cell_type": "code",
   "execution_count": null,
   "metadata": {},
   "outputs": [],
   "source": [
    "# Helper Function to plot Models\n",
    "import matplotlib.pyplot as plt\n",
    "\n",
    "def plt_ctr_from_to_position(models, features, from_pos, to_pos, data):\n",
    "    for model in models:\n",
    "        predictions_x = []\n",
    "        predictions_y = []\n",
    "        positions = range(from_pos, to_pos)\n",
    "        for pos in positions:\n",
    "            df_to_predict = pd.DataFrame(data = data, index=[0], columns=features)\n",
    "            predictions_x.append(pos)\n",
    "            predictions_y.append(model.predict(df_to_predict)[0])\n",
    "        predictions_x, predictions_y\n",
    "        plt.plot(predictions_x, predictions_y)"
   ]
  },
  {
   "cell_type": "code",
   "execution_count": null,
   "metadata": {},
   "outputs": [],
   "source": [
    "plt_ctr_from_to_position([LinearRegressionModel, DecisionTreeClassifierModel, RandomForestRegressorModel], features, 1, 20, data)"
   ]
  },
  {
   "cell_type": "code",
   "execution_count": null,
   "metadata": {},
   "outputs": [],
   "source": []
  }
 ],
 "metadata": {
  "kernelspec": {
   "display_name": "Python 3",
   "language": "python",
   "name": "python3"
  },
  "language_info": {
   "codemirror_mode": {
    "name": "ipython",
    "version": 3
   },
   "file_extension": ".py",
   "mimetype": "text/x-python",
   "name": "python",
   "nbconvert_exporter": "python",
   "pygments_lexer": "ipython3",
   "version": "3.6.2"
  }
 },
 "nbformat": 4,
 "nbformat_minor": 1
}
